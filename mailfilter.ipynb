{
 "cells": [
  {
   "cell_type": "code",
   "execution_count": 41,
   "metadata": {},
   "outputs": [
    {
     "ename": "ConnectionRefusedError",
     "evalue": "[WinError 10061] Es konnte keine Verbindung hergestellt werden, da der Zielcomputer die Verbindung verweigerte",
     "output_type": "error",
     "traceback": [
      "\u001b[1;31m---------------------------------------------------------------------------\u001b[0m",
      "\u001b[1;31mConnectionRefusedError\u001b[0m                    Traceback (most recent call last)",
      "\u001b[1;32mc:\\Users\\Felix\\Projekte\\webmail\\mailfilter.ipynb Cell 1\u001b[0m line \u001b[0;36m3\n\u001b[0;32m     <a href='vscode-notebook-cell:/c%3A/Users/Felix/Projekte/webmail/mailfilter.ipynb#W0sZmlsZQ%3D%3D?line=29'>30</a>\u001b[0m     \u001b[39mprint\u001b[39m(mailboxes)\n\u001b[0;32m     <a href='vscode-notebook-cell:/c%3A/Users/Felix/Projekte/webmail/mailfilter.ipynb#W0sZmlsZQ%3D%3D?line=30'>31</a>\u001b[0m     \u001b[39m# print(\"Mailboxes:\")\u001b[39;00m\n\u001b[0;32m     <a href='vscode-notebook-cell:/c%3A/Users/Felix/Projekte/webmail/mailfilter.ipynb#W0sZmlsZQ%3D%3D?line=31'>32</a>\u001b[0m     \u001b[39m# for box in mailboxes:\u001b[39;00m\n\u001b[0;32m     <a href='vscode-notebook-cell:/c%3A/Users/Felix/Projekte/webmail/mailfilter.ipynb#W0sZmlsZQ%3D%3D?line=32'>33</a>\u001b[0m     \u001b[39m#     print(\"->\",box)\u001b[39;00m\n\u001b[0;32m     <a href='vscode-notebook-cell:/c%3A/Users/Felix/Projekte/webmail/mailfilter.ipynb#W0sZmlsZQ%3D%3D?line=33'>34</a>\u001b[0m     \u001b[39m# print(\"\\n\")\u001b[39;00m\n\u001b[1;32m---> <a href='vscode-notebook-cell:/c%3A/Users/Felix/Projekte/webmail/mailfilter.ipynb#W0sZmlsZQ%3D%3D?line=37'>38</a>\u001b[0m \u001b[39mwith\u001b[39;00m imaplib\u001b[39m.\u001b[39;49mIMAP4_SSL(imap_ssl_host, imap_ssl_port) \u001b[39mas\u001b[39;00m server:\n\u001b[0;32m     <a href='vscode-notebook-cell:/c%3A/Users/Felix/Projekte/webmail/mailfilter.ipynb#W0sZmlsZQ%3D%3D?line=38'>39</a>\u001b[0m     server\u001b[39m.\u001b[39mlogin(username, password)\n\u001b[0;32m     <a href='vscode-notebook-cell:/c%3A/Users/Felix/Projekte/webmail/mailfilter.ipynb#W0sZmlsZQ%3D%3D?line=39'>40</a>\u001b[0m     getMailboxes(server)\n",
      "File \u001b[1;32mC:\\Program Files\\WindowsApps\\PythonSoftwareFoundation.Python.3.11_3.11.1776.0_x64__qbz5n2kfra8p0\\Lib\\imaplib.py:1323\u001b[0m, in \u001b[0;36mIMAP4_SSL.__init__\u001b[1;34m(self, host, port, keyfile, certfile, ssl_context, timeout)\u001b[0m\n\u001b[0;32m   1320\u001b[0m     ssl_context \u001b[39m=\u001b[39m ssl\u001b[39m.\u001b[39m_create_stdlib_context(certfile\u001b[39m=\u001b[39mcertfile,\n\u001b[0;32m   1321\u001b[0m                                              keyfile\u001b[39m=\u001b[39mkeyfile)\n\u001b[0;32m   1322\u001b[0m \u001b[39mself\u001b[39m\u001b[39m.\u001b[39mssl_context \u001b[39m=\u001b[39m ssl_context\n\u001b[1;32m-> 1323\u001b[0m IMAP4\u001b[39m.\u001b[39;49m\u001b[39m__init__\u001b[39;49m(\u001b[39mself\u001b[39;49m, host, port, timeout)\n",
      "File \u001b[1;32mC:\\Program Files\\WindowsApps\\PythonSoftwareFoundation.Python.3.11_3.11.1776.0_x64__qbz5n2kfra8p0\\Lib\\imaplib.py:202\u001b[0m, in \u001b[0;36mIMAP4.__init__\u001b[1;34m(self, host, port, timeout)\u001b[0m\n\u001b[0;32m    198\u001b[0m \u001b[39mself\u001b[39m\u001b[39m.\u001b[39m_mode_ascii()\n\u001b[0;32m    200\u001b[0m \u001b[39m# Open socket to server.\u001b[39;00m\n\u001b[1;32m--> 202\u001b[0m \u001b[39mself\u001b[39;49m\u001b[39m.\u001b[39;49mopen(host, port, timeout)\n\u001b[0;32m    204\u001b[0m \u001b[39mtry\u001b[39;00m:\n\u001b[0;32m    205\u001b[0m     \u001b[39mself\u001b[39m\u001b[39m.\u001b[39m_connect()\n",
      "File \u001b[1;32mC:\\Program Files\\WindowsApps\\PythonSoftwareFoundation.Python.3.11_3.11.1776.0_x64__qbz5n2kfra8p0\\Lib\\imaplib.py:1336\u001b[0m, in \u001b[0;36mIMAP4_SSL.open\u001b[1;34m(self, host, port, timeout)\u001b[0m\n\u001b[0;32m   1330\u001b[0m \u001b[39mdef\u001b[39;00m \u001b[39mopen\u001b[39m(\u001b[39mself\u001b[39m, host\u001b[39m=\u001b[39m\u001b[39m'\u001b[39m\u001b[39m'\u001b[39m, port\u001b[39m=\u001b[39mIMAP4_SSL_PORT, timeout\u001b[39m=\u001b[39m\u001b[39mNone\u001b[39;00m):\n\u001b[0;32m   1331\u001b[0m \u001b[39m    \u001b[39m\u001b[39m\"\"\"Setup connection to remote server on \"host:port\".\u001b[39;00m\n\u001b[0;32m   1332\u001b[0m \u001b[39m        (default: localhost:standard IMAP4 SSL port).\u001b[39;00m\n\u001b[0;32m   1333\u001b[0m \u001b[39m    This connection will be used by the routines:\u001b[39;00m\n\u001b[0;32m   1334\u001b[0m \u001b[39m        read, readline, send, shutdown.\u001b[39;00m\n\u001b[0;32m   1335\u001b[0m \u001b[39m    \"\"\"\u001b[39;00m\n\u001b[1;32m-> 1336\u001b[0m     IMAP4\u001b[39m.\u001b[39;49mopen(\u001b[39mself\u001b[39;49m, host, port, timeout)\n",
      "File \u001b[1;32mC:\\Program Files\\WindowsApps\\PythonSoftwareFoundation.Python.3.11_3.11.1776.0_x64__qbz5n2kfra8p0\\Lib\\imaplib.py:312\u001b[0m, in \u001b[0;36mIMAP4.open\u001b[1;34m(self, host, port, timeout)\u001b[0m\n\u001b[0;32m    310\u001b[0m \u001b[39mself\u001b[39m\u001b[39m.\u001b[39mhost \u001b[39m=\u001b[39m host\n\u001b[0;32m    311\u001b[0m \u001b[39mself\u001b[39m\u001b[39m.\u001b[39mport \u001b[39m=\u001b[39m port\n\u001b[1;32m--> 312\u001b[0m \u001b[39mself\u001b[39m\u001b[39m.\u001b[39msock \u001b[39m=\u001b[39m \u001b[39mself\u001b[39;49m\u001b[39m.\u001b[39;49m_create_socket(timeout)\n\u001b[0;32m    313\u001b[0m \u001b[39mself\u001b[39m\u001b[39m.\u001b[39mfile \u001b[39m=\u001b[39m \u001b[39mself\u001b[39m\u001b[39m.\u001b[39msock\u001b[39m.\u001b[39mmakefile(\u001b[39m'\u001b[39m\u001b[39mrb\u001b[39m\u001b[39m'\u001b[39m)\n",
      "File \u001b[1;32mC:\\Program Files\\WindowsApps\\PythonSoftwareFoundation.Python.3.11_3.11.1776.0_x64__qbz5n2kfra8p0\\Lib\\imaplib.py:1326\u001b[0m, in \u001b[0;36mIMAP4_SSL._create_socket\u001b[1;34m(self, timeout)\u001b[0m\n\u001b[0;32m   1325\u001b[0m \u001b[39mdef\u001b[39;00m \u001b[39m_create_socket\u001b[39m(\u001b[39mself\u001b[39m, timeout):\n\u001b[1;32m-> 1326\u001b[0m     sock \u001b[39m=\u001b[39m IMAP4\u001b[39m.\u001b[39;49m_create_socket(\u001b[39mself\u001b[39;49m, timeout)\n\u001b[0;32m   1327\u001b[0m     \u001b[39mreturn\u001b[39;00m \u001b[39mself\u001b[39m\u001b[39m.\u001b[39mssl_context\u001b[39m.\u001b[39mwrap_socket(sock,\n\u001b[0;32m   1328\u001b[0m                                         server_hostname\u001b[39m=\u001b[39m\u001b[39mself\u001b[39m\u001b[39m.\u001b[39mhost)\n",
      "File \u001b[1;32mC:\\Program Files\\WindowsApps\\PythonSoftwareFoundation.Python.3.11_3.11.1776.0_x64__qbz5n2kfra8p0\\Lib\\imaplib.py:302\u001b[0m, in \u001b[0;36mIMAP4._create_socket\u001b[1;34m(self, timeout)\u001b[0m\n\u001b[0;32m    300\u001b[0m \u001b[39mif\u001b[39;00m timeout \u001b[39mis\u001b[39;00m \u001b[39mnot\u001b[39;00m \u001b[39mNone\u001b[39;00m:\n\u001b[0;32m    301\u001b[0m     \u001b[39mreturn\u001b[39;00m socket\u001b[39m.\u001b[39mcreate_connection(address, timeout)\n\u001b[1;32m--> 302\u001b[0m \u001b[39mreturn\u001b[39;00m socket\u001b[39m.\u001b[39;49mcreate_connection(address)\n",
      "File \u001b[1;32mC:\\Program Files\\WindowsApps\\PythonSoftwareFoundation.Python.3.11_3.11.1776.0_x64__qbz5n2kfra8p0\\Lib\\socket.py:851\u001b[0m, in \u001b[0;36mcreate_connection\u001b[1;34m(address, timeout, source_address, all_errors)\u001b[0m\n\u001b[0;32m    849\u001b[0m \u001b[39mtry\u001b[39;00m:\n\u001b[0;32m    850\u001b[0m     \u001b[39mif\u001b[39;00m \u001b[39mnot\u001b[39;00m all_errors:\n\u001b[1;32m--> 851\u001b[0m         \u001b[39mraise\u001b[39;00m exceptions[\u001b[39m0\u001b[39m]\n\u001b[0;32m    852\u001b[0m     \u001b[39mraise\u001b[39;00m ExceptionGroup(\u001b[39m\"\u001b[39m\u001b[39mcreate_connection failed\u001b[39m\u001b[39m\"\u001b[39m, exceptions)\n\u001b[0;32m    853\u001b[0m \u001b[39mfinally\u001b[39;00m:\n\u001b[0;32m    854\u001b[0m     \u001b[39m# Break explicitly a reference cycle\u001b[39;00m\n",
      "File \u001b[1;32mC:\\Program Files\\WindowsApps\\PythonSoftwareFoundation.Python.3.11_3.11.1776.0_x64__qbz5n2kfra8p0\\Lib\\socket.py:836\u001b[0m, in \u001b[0;36mcreate_connection\u001b[1;34m(address, timeout, source_address, all_errors)\u001b[0m\n\u001b[0;32m    834\u001b[0m \u001b[39mif\u001b[39;00m source_address:\n\u001b[0;32m    835\u001b[0m     sock\u001b[39m.\u001b[39mbind(source_address)\n\u001b[1;32m--> 836\u001b[0m sock\u001b[39m.\u001b[39mconnect(sa)\n\u001b[0;32m    837\u001b[0m \u001b[39m# Break explicitly a reference cycle\u001b[39;00m\n\u001b[0;32m    838\u001b[0m exceptions\u001b[39m.\u001b[39mclear()\n",
      "\u001b[1;31mConnectionRefusedError\u001b[0m: [WinError 10061] Es konnte keine Verbindung hergestellt werden, da der Zielcomputer die Verbindung verweigerte"
     ]
    }
   ],
   "source": [
    "import time\n",
    "from itertools import chain\n",
    "import email\n",
    "import imaplib\n",
    "import re\n",
    "\n",
    "\n",
    "imap_ssl_host = ''  # imap.mail.yahoo.com\n",
    "imap_ssl_port = 993\n",
    "username = ''\n",
    "password = ''\n",
    "\n",
    "\n",
    "list_response_pattern = re.compile(r'\\((?P<flags>.*?)\\) \"(?P<delimiter>.*)\" (?P<name>.*)')\n",
    "\n",
    "def parse_list_response(line):\n",
    "    flags, delimiter, mailbox_name = list_response_pattern.match(line.decode()).groups()\n",
    "    mailbox_name = mailbox_name.strip('\"')\n",
    "    return (flags, delimiter, mailbox_name)\n",
    "\n",
    "\n",
    "def getMailboxes(server):\n",
    "    mailboxes = []\n",
    "    status, resp = server.list()\n",
    "    for line in resp:\n",
    "        flags, delimiter, mailbox_name = parse_list_response(line)\n",
    "        mailboxes.append(mailbox_name)\n",
    "        # print 'Parsed response:', (flags, delimiter, mailbox_name)\n",
    "\n",
    "    print(mailboxes)\n",
    "    # print(\"Mailboxes:\")\n",
    "    # for box in mailboxes:\n",
    "    #     print(\"->\",box)\n",
    "    # print(\"\\n\")\n",
    "\n",
    "\n",
    "\n",
    "with imaplib.IMAP4_SSL(imap_ssl_host, imap_ssl_port) as server:\n",
    "    server.login(username, password)\n",
    "    getMailboxes(server)\n",
    "    \n",
    "    \n",
    "    typ, data = server.select('AWS')\n",
    "    print(typ, data)\n",
    "\n",
    "\n",
    "    # print(server.status(\"AWS\", names=\"\"))\n",
    "\n",
    "    typ, data = server.search(None, 'UNSEEN')\n",
    "    for x in data[0].split():\n",
    "        # print(x)\n",
    "        typ, data = server.fetch(x, \"ENVELOPE\")\n",
    "            #server.fetch(x, '(RFC822)')\n",
    "        print('Message %s\\n%s\\n' % (x, data.decode().split(\" \")))\n",
    "\n",
    "\n",
    "    # result, data = server.uid('search', None, search_string(uid_max, criteria))\n",
    "\n",
    "    # uids = [int(s) for s in data[0].split()]\n",
    "    # if uids:\n",
    "    #     uid_max = max(uids)\n",
    "    #     # Initialize `uid_max`. Any UID less than or equal to `uid_max` will be ignored subsequently.\n",
    "\n",
    "    server.close()\n",
    "    server.logout()\n"
   ]
  }
 ],
 "metadata": {
  "kernelspec": {
   "display_name": "Python 3",
   "language": "python",
   "name": "python3"
  },
  "language_info": {
   "codemirror_mode": {
    "name": "ipython",
    "version": 3
   },
   "file_extension": ".py",
   "mimetype": "text/x-python",
   "name": "python",
   "nbconvert_exporter": "python",
   "pygments_lexer": "ipython3",
   "version": "3.11.6"
  }
 },
 "nbformat": 4,
 "nbformat_minor": 2
}
